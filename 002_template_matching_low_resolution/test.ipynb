{
 "cells": [
  {
   "cell_type": "code",
   "execution_count": 2,
   "metadata": {},
   "outputs": [],
   "source": [
    "import numpy as np\n",
    "import time\n",
    "import timeit"
   ]
  },
  {
   "cell_type": "code",
   "execution_count": 2,
   "metadata": {},
   "outputs": [
    {
     "data": {
      "text/plain": [
       "array([0, 2, 1], dtype=int64)"
      ]
     },
     "execution_count": 2,
     "metadata": {},
     "output_type": "execute_result"
    }
   ],
   "source": [
    "arr = np.array([1, 3, 2, 4, 5])\n",
    "k = 3\n",
    "ind = np.argpartition(arr, k)[:k]\n",
    "ind"
   ]
  },
  {
   "cell_type": "code",
   "execution_count": 88,
   "metadata": {},
   "outputs": [
    {
     "data": {
      "text/plain": [
       "array([[3, 2, 1, 4, 0],\n",
       "       [0, 4, 1, 2, 3]], dtype=int64)"
      ]
     },
     "execution_count": 88,
     "metadata": {},
     "output_type": "execute_result"
    }
   ],
   "source": [
    "arr = np.array([[6, 3, 2, 4, 5],[0, 2, 3, 4, 1]], np.uint8)\n",
    "k = 3\n",
    "ind = np.argpartition(arr, k)[:k]\n",
    "ind"
   ]
  },
  {
   "cell_type": "code",
   "execution_count": 8,
   "metadata": {},
   "outputs": [
    {
     "data": {
      "text/plain": [
       "array([[0, 2, 1, 3, 4],\n",
       "       [0, 4, 1, 2, 3]], dtype=int64)"
      ]
     },
     "execution_count": 8,
     "metadata": {},
     "output_type": "execute_result"
    }
   ],
   "source": [
    "ind = np.argpartition(arr, k)[:k]\n",
    "ind"
   ]
  },
  {
   "cell_type": "code",
   "execution_count": 3,
   "metadata": {},
   "outputs": [],
   "source": [
    "def smallestN_indices(a, N):\n",
    "    idx = a.ravel().argsort()[:N]\n",
    "    return np.stack(np.unravel_index(idx, a.shape)).T"
   ]
  },
  {
   "cell_type": "code",
   "execution_count": 17,
   "metadata": {},
   "outputs": [
    {
     "name": "stdout",
     "output_type": "stream",
     "text": [
      "10.1 µs ± 469 ns per loop (mean ± std. dev. of 7 runs, 100000 loops each)\n"
     ]
    }
   ],
   "source": [
    "%timeit smallestN_indices(arr, 3)"
   ]
  },
  {
   "cell_type": "code",
   "execution_count": 7,
   "metadata": {},
   "outputs": [
    {
     "name": "stdout",
     "output_type": "stream",
     "text": [
      "[[1 1 0]\n",
      " [0 4 2]]\n",
      "[0 1 2]\n",
      "1.0\n"
     ]
    }
   ],
   "source": [
    "arr = np.array([[6, 3, 2, 4, 5],[0, 2, 3, 4, 1]], np.uint8)\n",
    "ind = smallestN_indices(arr, 3)\n",
    "min = arr[tuple(ind.T)]\n",
    "print(ind.T)\n",
    "print(min)\n",
    "ave = np.average(min)\n",
    "print(ave)"
   ]
  },
  {
   "cell_type": "code",
   "execution_count": 8,
   "metadata": {},
   "outputs": [
    {
     "name": "stdout",
     "output_type": "stream",
     "text": [
      "[2]\n",
      "[3]\n"
     ]
    }
   ],
   "source": [
    "arr = np.array([[6, 3, 2, 4, 5],[0, 2, 3, 4, 1]], np.uint8)\n",
    "idx = smallestN_indices(arr[0,:], 1).flatten()\n",
    "print(idx)\n",
    "min = arr[1, idx]\n",
    "\n",
    "print(min)"
   ]
  },
  {
   "cell_type": "code",
   "execution_count": 84,
   "metadata": {},
   "outputs": [
    {
     "name": "stdout",
     "output_type": "stream",
     "text": [
      "[0 2]\n",
      "[[0]\n",
      " [3]]\n"
     ]
    }
   ],
   "source": [
    "idx = np.argpartition(arr[0,:], 2)[:2]\n",
    "print(idx)\n",
    "min = arr[1,:][ind.T]\n",
    "print(min)"
   ]
  },
  {
   "cell_type": "code",
   "execution_count": 67,
   "metadata": {},
   "outputs": [
    {
     "name": "stdout",
     "output_type": "stream",
     "text": [
      "[[2.         0.66666667]\n",
      " [2.         0.66666667]]\n"
     ]
    }
   ],
   "source": [
    "tmp = np.array([])\n",
    "if tmp.size == 0:\n",
    "    tmp = np.append(tmp,np.array([2, ave]))\n",
    "tmp = np.vstack((tmp,np.array([2, ave])))\n",
    "print(tmp)"
   ]
  },
  {
   "cell_type": "code",
   "execution_count": 46,
   "metadata": {},
   "outputs": [
    {
     "name": "stdout",
     "output_type": "stream",
     "text": [
      "4\n",
      "2\n",
      "0\n",
      "-2\n",
      "-4\n"
     ]
    }
   ],
   "source": [
    "for i in range(4, -4, -2):\n",
    "    print(i)"
   ]
  },
  {
   "cell_type": "code",
   "execution_count": 105,
   "metadata": {},
   "outputs": [],
   "source": [
    "def smallestN_indices_argparitition(a, N, maintain_order=False):\n",
    "    idx = np.argpartition(a.ravel(),N)[:N]\n",
    "    if maintain_order:\n",
    "        idx = idx[a.ravel()[idx].argsort()]\n",
    "    return np.stack(np.unravel_index(idx, a.shape)).T"
   ]
  },
  {
   "cell_type": "code",
   "execution_count": 109,
   "metadata": {},
   "outputs": [
    {
     "name": "stdout",
     "output_type": "stream",
     "text": [
      "[2 1]\n",
      "[3 2]\n"
     ]
    }
   ],
   "source": [
    "arr = np.array([[6, 3, 2, 4, 5],[0, 2, 3, 4, 1]], np.uint8)\n",
    "idx = smallestN_indices_argparitition(arr[0,:], 2, maintain_order=False).flatten()\n",
    "print(idx)\n",
    "min = arr[1,:][idx]\n",
    "\n",
    "print(min)"
   ]
  }
 ],
 "metadata": {
  "interpreter": {
   "hash": "2a80a9666c2391b13aa7cb1f3bdf8bcf7be32ed5b1c90985e620bc6a962d1524"
  },
  "kernelspec": {
   "display_name": "Python 3.8.12 64-bit ('myenv': conda)",
   "language": "python",
   "name": "python3"
  },
  "language_info": {
   "codemirror_mode": {
    "name": "ipython",
    "version": 3
   },
   "file_extension": ".py",
   "mimetype": "text/x-python",
   "name": "python",
   "nbconvert_exporter": "python",
   "pygments_lexer": "ipython3",
   "version": "3.8.12"
  },
  "orig_nbformat": 4
 },
 "nbformat": 4,
 "nbformat_minor": 2
}
